{
 "cells": [
  {
   "cell_type": "code",
   "execution_count": 1,
   "metadata": {},
   "outputs": [
    {
     "name": "stdout",
     "output_type": "stream",
     "text": [
      "Checking whether there is an H2O instance running at http://localhost:54321 ..... not found.\n",
      "Attempting to start a local H2O server...\n",
      "  Java Version: openjdk version \"1.8.0_152-release\"; OpenJDK Runtime Environment (build 1.8.0_152-release-1056-b12); OpenJDK 64-Bit Server VM (build 25.152-b12, mixed mode)\n",
      "  Starting server from /home/alexander/anaconda3/lib/python3.7/site-packages/h2o/backend/bin/h2o.jar\n",
      "  Ice root: /tmp/tmp_8my0v2s\n",
      "  JVM stdout: /tmp/tmp_8my0v2s/h2o_alexander_started_from_python.out\n",
      "  JVM stderr: /tmp/tmp_8my0v2s/h2o_alexander_started_from_python.err\n",
      "  Server is running at http://127.0.0.1:54321\n",
      "Connecting to H2O server at http://127.0.0.1:54321 ... successful.\n"
     ]
    },
    {
     "data": {
      "text/html": [
       "<div style=\"overflow:auto\"><table style=\"width:50%\"><tr><td>H2O cluster uptime:</td>\n",
       "<td>01 secs</td></tr>\n",
       "<tr><td>H2O cluster timezone:</td>\n",
       "<td>Europe/Moscow</td></tr>\n",
       "<tr><td>H2O data parsing timezone:</td>\n",
       "<td>UTC</td></tr>\n",
       "<tr><td>H2O cluster version:</td>\n",
       "<td>3.26.0.10</td></tr>\n",
       "<tr><td>H2O cluster version age:</td>\n",
       "<td>20 days </td></tr>\n",
       "<tr><td>H2O cluster name:</td>\n",
       "<td>H2O_from_python_alexander_9f87sg</td></tr>\n",
       "<tr><td>H2O cluster total nodes:</td>\n",
       "<td>1</td></tr>\n",
       "<tr><td>H2O cluster free memory:</td>\n",
       "<td>2.585 Gb</td></tr>\n",
       "<tr><td>H2O cluster total cores:</td>\n",
       "<td>4</td></tr>\n",
       "<tr><td>H2O cluster allowed cores:</td>\n",
       "<td>4</td></tr>\n",
       "<tr><td>H2O cluster status:</td>\n",
       "<td>accepting new members, healthy</td></tr>\n",
       "<tr><td>H2O connection url:</td>\n",
       "<td>http://127.0.0.1:54321</td></tr>\n",
       "<tr><td>H2O connection proxy:</td>\n",
       "<td>{'http': None, 'https': None}</td></tr>\n",
       "<tr><td>H2O internal security:</td>\n",
       "<td>False</td></tr>\n",
       "<tr><td>H2O API Extensions:</td>\n",
       "<td>Amazon S3, XGBoost, Algos, AutoML, Core V3, TargetEncoder, Core V4</td></tr>\n",
       "<tr><td>Python version:</td>\n",
       "<td>3.7.3 final</td></tr></table></div>"
      ],
      "text/plain": [
       "--------------------------  ------------------------------------------------------------------\n",
       "H2O cluster uptime:         01 secs\n",
       "H2O cluster timezone:       Europe/Moscow\n",
       "H2O data parsing timezone:  UTC\n",
       "H2O cluster version:        3.26.0.10\n",
       "H2O cluster version age:    20 days\n",
       "H2O cluster name:           H2O_from_python_alexander_9f87sg\n",
       "H2O cluster total nodes:    1\n",
       "H2O cluster free memory:    2.585 Gb\n",
       "H2O cluster total cores:    4\n",
       "H2O cluster allowed cores:  4\n",
       "H2O cluster status:         accepting new members, healthy\n",
       "H2O connection url:         http://127.0.0.1:54321\n",
       "H2O connection proxy:       {'http': None, 'https': None}\n",
       "H2O internal security:      False\n",
       "H2O API Extensions:         Amazon S3, XGBoost, Algos, AutoML, Core V3, TargetEncoder, Core V4\n",
       "Python version:             3.7.3 final\n",
       "--------------------------  ------------------------------------------------------------------"
      ]
     },
     "metadata": {},
     "output_type": "display_data"
    }
   ],
   "source": [
    "import h2o\n",
    "from h2o.automl import H2OAutoML\n",
    "h2o.init();"
   ]
  },
  {
   "cell_type": "code",
   "execution_count": 2,
   "metadata": {},
   "outputs": [
    {
     "name": "stdout",
     "output_type": "stream",
     "text": [
      "Parse progress: |█████████████████████████████████████████████████████████| 100%\n",
      "Parse progress: |█████████████████████████████████████████████████████████| 100%\n"
     ]
    }
   ],
   "source": [
    "df = h2o.upload_file(\"train.csv\")\n",
    "test = h2o.upload_file(\"test.csv\")"
   ]
  },
  {
   "cell_type": "code",
   "execution_count": 3,
   "metadata": {},
   "outputs": [],
   "source": [
    "y = \"Survived\"\n",
    "df[y] = df[y].asfactor()"
   ]
  },
  {
   "cell_type": "code",
   "execution_count": 4,
   "metadata": {},
   "outputs": [
    {
     "name": "stdout",
     "output_type": "stream",
     "text": [
      "AutoML progress: |████████████████████████████████████████████████████████| 100%\n"
     ]
    }
   ],
   "source": [
    "aml = H2OAutoML(max_models = 100, max_runtime_secs = 600, seed = 22)\n",
    "aml.train(y = y, training_frame = df)"
   ]
  },
  {
   "cell_type": "code",
   "execution_count": 5,
   "metadata": {},
   "outputs": [
    {
     "data": {
      "text/html": [
       "<table>\n",
       "<thead>\n",
       "<tr><th>model_id                                           </th><th style=\"text-align: right;\">     auc</th><th style=\"text-align: right;\">  logloss</th><th style=\"text-align: right;\">  mean_per_class_error</th><th style=\"text-align: right;\">    rmse</th><th style=\"text-align: right;\">     mse</th></tr>\n",
       "</thead>\n",
       "<tbody>\n",
       "<tr><td>XGBoost_grid_1_AutoML_20191128_085309_model_4      </td><td style=\"text-align: right;\">0.873782</td><td style=\"text-align: right;\"> 0.402652</td><td style=\"text-align: right;\">              0.17611 </td><td style=\"text-align: right;\">0.353314</td><td style=\"text-align: right;\">0.124831</td></tr>\n",
       "<tr><td>GBM_grid_1_AutoML_20191128_085309_model_20         </td><td style=\"text-align: right;\">0.872858</td><td style=\"text-align: right;\"> 0.471787</td><td style=\"text-align: right;\">              0.179992</td><td style=\"text-align: right;\">0.384612</td><td style=\"text-align: right;\">0.147927</td></tr>\n",
       "<tr><td>GBM_grid_1_AutoML_20191128_085309_model_10         </td><td style=\"text-align: right;\">0.87225 </td><td style=\"text-align: right;\"> 0.507187</td><td style=\"text-align: right;\">              0.187039</td><td style=\"text-align: right;\">0.402871</td><td style=\"text-align: right;\">0.162305</td></tr>\n",
       "<tr><td>XRT_1_AutoML_20191128_085309                       </td><td style=\"text-align: right;\">0.871824</td><td style=\"text-align: right;\"> 0.572548</td><td style=\"text-align: right;\">              0.186607</td><td style=\"text-align: right;\">0.362879</td><td style=\"text-align: right;\">0.131681</td></tr>\n",
       "<tr><td>XGBoost_grid_1_AutoML_20191128_085309_model_5      </td><td style=\"text-align: right;\">0.871318</td><td style=\"text-align: right;\"> 0.413699</td><td style=\"text-align: right;\">              0.169543</td><td style=\"text-align: right;\">0.355211</td><td style=\"text-align: right;\">0.126175</td></tr>\n",
       "<tr><td>XGBoost_grid_1_AutoML_20191128_085309_model_10     </td><td style=\"text-align: right;\">0.871223</td><td style=\"text-align: right;\"> 0.411557</td><td style=\"text-align: right;\">              0.181694</td><td style=\"text-align: right;\">0.3558  </td><td style=\"text-align: right;\">0.126594</td></tr>\n",
       "<tr><td>GBM_grid_1_AutoML_20191128_085309_model_22         </td><td style=\"text-align: right;\">0.870823</td><td style=\"text-align: right;\"> 0.564367</td><td style=\"text-align: right;\">              0.181119</td><td style=\"text-align: right;\">0.433853</td><td style=\"text-align: right;\">0.188228</td></tr>\n",
       "<tr><td>StackedEnsemble_BestOfFamily_AutoML_20191128_085309</td><td style=\"text-align: right;\">0.870746</td><td style=\"text-align: right;\"> 0.401357</td><td style=\"text-align: right;\">              0.173545</td><td style=\"text-align: right;\">0.351582</td><td style=\"text-align: right;\">0.12361 </td></tr>\n",
       "<tr><td>XGBoost_grid_1_AutoML_20191128_085309_model_6      </td><td style=\"text-align: right;\">0.870195</td><td style=\"text-align: right;\"> 0.41519 </td><td style=\"text-align: right;\">              0.168057</td><td style=\"text-align: right;\">0.356666</td><td style=\"text-align: right;\">0.127211</td></tr>\n",
       "<tr><td>XGBoost_3_AutoML_20191128_085309                   </td><td style=\"text-align: right;\">0.869103</td><td style=\"text-align: right;\"> 0.410928</td><td style=\"text-align: right;\">              0.169327</td><td style=\"text-align: right;\">0.354926</td><td style=\"text-align: right;\">0.125972</td></tr>\n",
       "</tbody>\n",
       "</table>"
      ]
     },
     "metadata": {},
     "output_type": "display_data"
    },
    {
     "data": {
      "text/plain": []
     },
     "execution_count": 5,
     "metadata": {},
     "output_type": "execute_result"
    }
   ],
   "source": [
    "lb = aml.leaderboard\n",
    "lb.head()"
   ]
  },
  {
   "cell_type": "code",
   "execution_count": 6,
   "metadata": {},
   "outputs": [
    {
     "name": "stdout",
     "output_type": "stream",
     "text": [
      "xgboost prediction progress: |████████████████████████████████████████████| 100%\n"
     ]
    },
    {
     "name": "stderr",
     "output_type": "stream",
     "text": [
      "/home/alexander/anaconda3/lib/python3.7/site-packages/h2o/job.py:70: UserWarning: Test/Validation dataset column 'Cabin' has levels not trained on: [A11, A18, A21, A29, A9, B10, B11, B24, B26, B36, B45, B52 B54 B56, B61, C105, C116, C130, C132, C28, C31, C39, C51, C53, C55 C57, C6, C80, C89, C97, D22, D34, D38, D40, D43, E39 E41, E45, E52, E60, F, F E46, F E57]\n",
      "  warnings.warn(w)\n"
     ]
    }
   ],
   "source": [
    "pred = aml.predict(test);"
   ]
  },
  {
   "cell_type": "code",
   "execution_count": 7,
   "metadata": {},
   "outputs": [],
   "source": [
    "res = pred.as_data_frame().predict"
   ]
  },
  {
   "cell_type": "code",
   "execution_count": 8,
   "metadata": {},
   "outputs": [],
   "source": [
    "import pandas as pd\n",
    "\n",
    "PassengerId = test['PassengerId'].as_data_frame()\n",
    "pd.concat([PassengerId,res],axis=1,ignore_index = True).to_csv('gender_submission.csv',index=False)"
   ]
  }
 ],
 "metadata": {
  "kernelspec": {
   "display_name": "Python 3",
   "language": "python",
   "name": "python3"
  },
  "language_info": {
   "codemirror_mode": {
    "name": "ipython",
    "version": 3
   },
   "file_extension": ".py",
   "mimetype": "text/x-python",
   "name": "python",
   "nbconvert_exporter": "python",
   "pygments_lexer": "ipython3",
   "version": "3.7.3"
  }
 },
 "nbformat": 4,
 "nbformat_minor": 2
}
