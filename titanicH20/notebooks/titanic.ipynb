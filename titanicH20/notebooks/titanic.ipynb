{
 "cells": [
  {
   "cell_type": "code",
   "execution_count": 1,
   "metadata": {},
   "outputs": [
    {
     "name": "stdout",
     "output_type": "stream",
     "text": [
      "/home/alexander/Учеба/ML/titanicH20\n"
     ]
    }
   ],
   "source": [
    "cd .."
   ]
  },
  {
   "cell_type": "code",
   "execution_count": 2,
   "metadata": {},
   "outputs": [
    {
     "name": "stdout",
     "output_type": "stream",
     "text": [
      "Checking whether there is an H2O instance running at http://localhost:54321 ..... not found.\n",
      "Attempting to start a local H2O server...\n",
      "  Java Version: openjdk version \"11.0.9.1\" 2020-11-04; OpenJDK Runtime Environment (build 11.0.9.1+1-Ubuntu-0ubuntu1.20.04); OpenJDK 64-Bit Server VM (build 11.0.9.1+1-Ubuntu-0ubuntu1.20.04, mixed mode, sharing)\n",
      "  Starting server from /home/alexander/.local/lib/python3.8/site-packages/h2o/backend/bin/h2o.jar\n",
      "  Ice root: /tmp/tmpehlq8bmj\n",
      "  JVM stdout: /tmp/tmpehlq8bmj/h2o_alexander_started_from_python.out\n",
      "  JVM stderr: /tmp/tmpehlq8bmj/h2o_alexander_started_from_python.err\n",
      "  Server is running at http://127.0.0.1:54321\n",
      "Connecting to H2O server at http://127.0.0.1:54321 ... successful.\n"
     ]
    },
    {
     "data": {
      "text/html": [
       "<div style=\"overflow:auto\"><table style=\"width:50%\"><tr><td>H2O_cluster_uptime:</td>\n",
       "<td>02 secs</td></tr>\n",
       "<tr><td>H2O_cluster_timezone:</td>\n",
       "<td>Europe/Moscow</td></tr>\n",
       "<tr><td>H2O_data_parsing_timezone:</td>\n",
       "<td>UTC</td></tr>\n",
       "<tr><td>H2O_cluster_version:</td>\n",
       "<td>3.32.0.2</td></tr>\n",
       "<tr><td>H2O_cluster_version_age:</td>\n",
       "<td>1 month and 8 days </td></tr>\n",
       "<tr><td>H2O_cluster_name:</td>\n",
       "<td>H2O_from_python_alexander_ywbwzm</td></tr>\n",
       "<tr><td>H2O_cluster_total_nodes:</td>\n",
       "<td>1</td></tr>\n",
       "<tr><td>H2O_cluster_free_memory:</td>\n",
       "<td>2.902 Gb</td></tr>\n",
       "<tr><td>H2O_cluster_total_cores:</td>\n",
       "<td>4</td></tr>\n",
       "<tr><td>H2O_cluster_allowed_cores:</td>\n",
       "<td>4</td></tr>\n",
       "<tr><td>H2O_cluster_status:</td>\n",
       "<td>accepting new members, healthy</td></tr>\n",
       "<tr><td>H2O_connection_url:</td>\n",
       "<td>http://127.0.0.1:54321</td></tr>\n",
       "<tr><td>H2O_connection_proxy:</td>\n",
       "<td>{\"http\": null, \"https\": null}</td></tr>\n",
       "<tr><td>H2O_internal_security:</td>\n",
       "<td>False</td></tr>\n",
       "<tr><td>H2O_API_Extensions:</td>\n",
       "<td>Amazon S3, XGBoost, Algos, AutoML, Core V3, TargetEncoder, Core V4</td></tr>\n",
       "<tr><td>Python_version:</td>\n",
       "<td>3.8.5 final</td></tr></table></div>"
      ],
      "text/plain": [
       "--------------------------  ------------------------------------------------------------------\n",
       "H2O_cluster_uptime:         02 secs\n",
       "H2O_cluster_timezone:       Europe/Moscow\n",
       "H2O_data_parsing_timezone:  UTC\n",
       "H2O_cluster_version:        3.32.0.2\n",
       "H2O_cluster_version_age:    1 month and 8 days\n",
       "H2O_cluster_name:           H2O_from_python_alexander_ywbwzm\n",
       "H2O_cluster_total_nodes:    1\n",
       "H2O_cluster_free_memory:    2.902 Gb\n",
       "H2O_cluster_total_cores:    4\n",
       "H2O_cluster_allowed_cores:  4\n",
       "H2O_cluster_status:         accepting new members, healthy\n",
       "H2O_connection_url:         http://127.0.0.1:54321\n",
       "H2O_connection_proxy:       {\"http\": null, \"https\": null}\n",
       "H2O_internal_security:      False\n",
       "H2O_API_Extensions:         Amazon S3, XGBoost, Algos, AutoML, Core V3, TargetEncoder, Core V4\n",
       "Python_version:             3.8.5 final\n",
       "--------------------------  ------------------------------------------------------------------"
      ]
     },
     "metadata": {},
     "output_type": "display_data"
    }
   ],
   "source": [
    "import h2o\n",
    "from h2o.automl import H2OAutoML\n",
    "h2o.init();"
   ]
  },
  {
   "cell_type": "code",
   "execution_count": 4,
   "metadata": {},
   "outputs": [],
   "source": [
    "import yaml\n",
    "\n",
    "params = yaml.safe_load(open(\"params.yml\"))"
   ]
  },
  {
   "cell_type": "code",
   "execution_count": 6,
   "metadata": {},
   "outputs": [
    {
     "name": "stdout",
     "output_type": "stream",
     "text": [
      "Parse progress: |█████████████████████████████████████████████████████████| 100%\n",
      "Parse progress: |█████████████████████████████████████████████████████████| 100%\n"
     ]
    }
   ],
   "source": [
    "from src.data.make_dataset import load_data\n",
    "from src.data.make_test import load_test\n",
    "\n",
    "df, y = load_data(h2o, params['train_path'])\n",
    "test = load_test(h2o, params['test_path'])"
   ]
  },
  {
   "cell_type": "code",
   "execution_count": 7,
   "metadata": {},
   "outputs": [
    {
     "name": "stdout",
     "output_type": "stream",
     "text": [
      "AutoML progress: |████████████████████████████████████████████████████████| 100%\n"
     ]
    }
   ],
   "source": [
    "from src.models.train_model import train\n",
    "\n",
    "aml = train(y, df, params)"
   ]
  },
  {
   "cell_type": "code",
   "execution_count": 8,
   "metadata": {},
   "outputs": [
    {
     "data": {
      "text/html": [
       "<table>\n",
       "<thead>\n",
       "<tr><th>model_id                                           </th><th style=\"text-align: right;\">     auc</th><th style=\"text-align: right;\">  logloss</th><th style=\"text-align: right;\">   aucpr</th><th style=\"text-align: right;\">  mean_per_class_error</th><th style=\"text-align: right;\">    rmse</th><th style=\"text-align: right;\">     mse</th></tr>\n",
       "</thead>\n",
       "<tbody>\n",
       "<tr><td>StackedEnsemble_AllModels_AutoML_20201225_200240   </td><td style=\"text-align: right;\">0.873068</td><td style=\"text-align: right;\"> 0.40305 </td><td style=\"text-align: right;\">0.849759</td><td style=\"text-align: right;\">              0.174672</td><td style=\"text-align: right;\">0.351285</td><td style=\"text-align: right;\">0.123401</td></tr>\n",
       "<tr><td>XGBoost_grid__1_AutoML_20201225_200240_model_7     </td><td style=\"text-align: right;\">0.868986</td><td style=\"text-align: right;\"> 0.420736</td><td style=\"text-align: right;\">0.843071</td><td style=\"text-align: right;\">              0.173929</td><td style=\"text-align: right;\">0.358614</td><td style=\"text-align: right;\">0.128604</td></tr>\n",
       "<tr><td>StackedEnsemble_BestOfFamily_AutoML_20201225_200240</td><td style=\"text-align: right;\">0.868094</td><td style=\"text-align: right;\"> 0.413276</td><td style=\"text-align: right;\">0.846838</td><td style=\"text-align: right;\">              0.179609</td><td style=\"text-align: right;\">0.357372</td><td style=\"text-align: right;\">0.127715</td></tr>\n",
       "<tr><td>XRT_1_AutoML_20201225_200240                       </td><td style=\"text-align: right;\">0.866871</td><td style=\"text-align: right;\"> 0.480681</td><td style=\"text-align: right;\">0.834473</td><td style=\"text-align: right;\">              0.182629</td><td style=\"text-align: right;\">0.361946</td><td style=\"text-align: right;\">0.131005</td></tr>\n",
       "<tr><td>XGBoost_grid__1_AutoML_20201225_200240_model_2     </td><td style=\"text-align: right;\">0.864975</td><td style=\"text-align: right;\"> 0.44029 </td><td style=\"text-align: right;\">0.842475</td><td style=\"text-align: right;\">              0.178434</td><td style=\"text-align: right;\">0.358761</td><td style=\"text-align: right;\">0.128709</td></tr>\n",
       "<tr><td>GBM_grid__1_AutoML_20201225_200240_model_9         </td><td style=\"text-align: right;\">0.864786</td><td style=\"text-align: right;\"> 0.448233</td><td style=\"text-align: right;\">0.847942</td><td style=\"text-align: right;\">              0.193438</td><td style=\"text-align: right;\">0.367827</td><td style=\"text-align: right;\">0.135297</td></tr>\n",
       "<tr><td>GBM_grid__1_AutoML_20201225_200240_model_4         </td><td style=\"text-align: right;\">0.864738</td><td style=\"text-align: right;\"> 0.43532 </td><td style=\"text-align: right;\">0.845206</td><td style=\"text-align: right;\">              0.198543</td><td style=\"text-align: right;\">0.367933</td><td style=\"text-align: right;\">0.135375</td></tr>\n",
       "<tr><td>GBM_4_AutoML_20201225_200240                       </td><td style=\"text-align: right;\">0.863926</td><td style=\"text-align: right;\"> 0.437731</td><td style=\"text-align: right;\">0.843665</td><td style=\"text-align: right;\">              0.191688</td><td style=\"text-align: right;\">0.368904</td><td style=\"text-align: right;\">0.13609 </td></tr>\n",
       "<tr><td>GBM_3_AutoML_20201225_200240                       </td><td style=\"text-align: right;\">0.86346 </td><td style=\"text-align: right;\"> 0.4409  </td><td style=\"text-align: right;\">0.841415</td><td style=\"text-align: right;\">              0.202354</td><td style=\"text-align: right;\">0.373592</td><td style=\"text-align: right;\">0.139571</td></tr>\n",
       "<tr><td>GBM_grid__1_AutoML_20201225_200240_model_8         </td><td style=\"text-align: right;\">0.863276</td><td style=\"text-align: right;\"> 0.434044</td><td style=\"text-align: right;\">0.839433</td><td style=\"text-align: right;\">              0.183779</td><td style=\"text-align: right;\">0.365376</td><td style=\"text-align: right;\">0.1335  </td></tr>\n",
       "</tbody>\n",
       "</table>"
      ]
     },
     "metadata": {},
     "output_type": "display_data"
    },
    {
     "data": {
      "text/plain": []
     },
     "execution_count": 8,
     "metadata": {},
     "output_type": "execute_result"
    }
   ],
   "source": [
    "aml.leaderboard.head()"
   ]
  },
  {
   "cell_type": "code",
   "execution_count": 9,
   "metadata": {},
   "outputs": [
    {
     "name": "stdout",
     "output_type": "stream",
     "text": [
      "stackedensemble prediction progress: |████████████████████████████████████| 100%\n"
     ]
    },
    {
     "name": "stderr",
     "output_type": "stream",
     "text": [
      "/home/alexander/.local/lib/python3.8/site-packages/h2o/job.py:70: UserWarning: Test/Validation dataset column 'Cabin' has levels not trained on: [\"A11\", \"A18\", \"A21\", \"A29\", \"A9\", \"B10\", \"B11\", \"B24\", \"B26\", \"B36\", \"B45\", \"B52 B54 B56\", \"B61\", \"C105\", \"C116\", \"C130\", \"C132\", \"C28\", \"C31\", \"C39\", \"C51\", \"C53\", \"C55 C57\", \"C6\", \"C80\", \"C89\", \"C97\", \"D22\", \"D34\", \"D38\", \"D40\", \"D43\", \"E39 E41\", \"E45\", \"E52\", \"E60\", \"F\", \"F E46\", \"F E57\"]\n",
      "  warnings.warn(w)\n"
     ]
    }
   ],
   "source": [
    "from src.models.predict_model import predict\n",
    "\n",
    "pred = predict(aml, test);"
   ]
  },
  {
   "cell_type": "code",
   "execution_count": 10,
   "metadata": {},
   "outputs": [],
   "source": [
    "from src.result.result import result\n",
    "\n",
    "result(pred, test, params['reports_path'])"
   ]
  }
 ],
 "metadata": {
  "kernelspec": {
   "display_name": "Python 3",
   "language": "python",
   "name": "python3"
  },
  "language_info": {
   "codemirror_mode": {
    "name": "ipython",
    "version": 3
   },
   "file_extension": ".py",
   "mimetype": "text/x-python",
   "name": "python",
   "nbconvert_exporter": "python",
   "pygments_lexer": "ipython3",
   "version": "3.8.5"
  }
 },
 "nbformat": 4,
 "nbformat_minor": 2
}
